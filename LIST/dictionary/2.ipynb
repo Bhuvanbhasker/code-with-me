{
 "cells": [
  {
   "cell_type": "markdown",
   "metadata": {},
   "source": [
    "Write a program to count the frequency of each character in a given string using a dictionary.\n"
   ]
  },
  {
   "cell_type": "code",
   "execution_count": 1,
   "metadata": {},
   "outputs": [
    {
     "name": "stdout",
     "output_type": "stream",
     "text": [
      "{'hello world!'}\n"
     ]
    }
   ],
   "source": [
    "my_dict ={\"hello world!\"}\n",
    "print(my_dict)"
   ]
  },
  {
   "cell_type": "code",
   "execution_count": 2,
   "metadata": {},
   "outputs": [
    {
     "name": "stdout",
     "output_type": "stream",
     "text": [
      "Count of all characters in GeeksforGeeks is :\n",
      " {'G': 2, 'e': 4, 'k': 2, 's': 2, 'f': 1, 'o': 1, 'r': 1}\n"
     ]
    }
   ],
   "source": [
    "\n",
    "test_str = \"GeeksforGeeks\"\n",
    "all_freq = {}\n",
    "\n",
    "for i in test_str:\n",
    "\tif i in all_freq:\n",
    "\t\tall_freq[i] += 1\n",
    "\telse:\n",
    "\t\tall_freq[i] = 1\n",
    "print(\"Count of all characters in GeeksforGeeks is :\\n \"\n",
    "\t+ str(all_freq))\n"
   ]
  },
  {
   "cell_type": "markdown",
   "metadata": {},
   "source": [
    "\n",
    "Write a program to merge two dictionaries into a single dictionary.\n",
    "\n"
   ]
  },
  {
   "cell_type": "code",
   "execution_count": 9,
   "metadata": {},
   "outputs": [
    {
     "name": "stdout",
     "output_type": "stream",
     "text": [
      "{'ashish': 12, 'aman': 5, 'bhuvan': 32, 'amjad': 35}\n"
     ]
    }
   ],
   "source": [
    "my_dict1 = {\"ashish\": 12, \"aman\": 5}\n",
    "my_dict2 = {\"bhuvan\": 32, \"amjad\": 35}\n",
    "my_dict1.update(my_dict2)  # Merges dict2 into dict1\n",
    "print(my_dict1)\n",
    "\n",
    "dict1 = {\"A\": 10, \"B\": 5}\n",
    "dict2 = {\"C\": 15, \"D\": 8}\n",
    "\n",
    "merged_dict = {**dict1, **dict2}\n",
    "print(merged_dict)\n",
    "\n",
    "dict1 = {\"A\": 10, \"B\": 5}\n",
    "dict2 = {\"C\": 15, \"D\": 8}\n",
    "\n",
    "merged_dict = {k: v for d in [dict1, dict2] for k, v in d.items()}\n",
    "print(merged_dict)\n",
    "\n",
    "\n"
   ]
  },
  {
   "cell_type": "markdown",
   "metadata": {},
   "source": [
    "Write a program to find the keys with the maximum value in a dictionary.\n",
    "\n"
   ]
  },
  {
   "cell_type": "code",
   "execution_count": 4,
   "metadata": {},
   "outputs": [
    {
     "name": "stdout",
     "output_type": "stream",
     "text": [
      "ashraf\n"
     ]
    }
   ],
   "source": [
    "my_dict = {\"sam\": 23, \"aman\": 24, \"ashraf\":48}\n",
    "max_key = max(my_dict, key=my_dict.get)\n",
    "print(max_key)"
   ]
  },
  {
   "cell_type": "markdown",
   "metadata": {},
   "source": [
    "\n",
    "Write a program to check if a given key exists in a dictionary.\n",
    "\n",
    "Sample data: {\"a\": 1, \"b\": 2, \"c\": 3}\n",
    "Hint: Use the in operator to check for key existence."
   ]
  },
  {
   "cell_type": "code",
   "execution_count": 12,
   "metadata": {},
   "outputs": [
    {
     "name": "stdout",
     "output_type": "stream",
     "text": [
      "not exist\n"
     ]
    }
   ],
   "source": [
    "my_dict = {\"sam\": 23, \"aman\": 24, \"ashraf\":48}\n",
    "key = \"baba\"\n",
    "if key in my_dict:\n",
    "    print(\"exist\")\n",
    "else:\n",
    "    print(\"not exist\")"
   ]
  },
  {
   "cell_type": "markdown",
   "metadata": {},
   "source": [
    "Write a program to remove a specific key from a dictionary.\n",
    "\n",
    "Sample data: {\"a\": 1, \"b\": 2, \"c\": 3}\n",
    "Hint: Use the pop() method to remove the key."
   ]
  },
  {
   "cell_type": "code",
   "execution_count": 17,
   "metadata": {},
   "outputs": [
    {
     "name": "stdout",
     "output_type": "stream",
     "text": [
      "{'aman': 24, 'ashraf': 48}\n"
     ]
    }
   ],
   "source": [
    "my_dict = {\"sam\": 23, \"aman\": 24, \"ashraf\":48}\n",
    "value = my_dict.pop(\"sam\")\n",
    "print(my_dict)\n"
   ]
  },
  {
   "cell_type": "markdown",
   "metadata": {},
   "source": [
    "Write a program to find the common keys in two dictionaries.\n",
    "\n",
    "Sample data:\n",
    "dict1 = {\"a\": 1, \"b\": 2, \"c\": 3}\n",
    "dict2 = {\"b\": 3, \"c\": 4, \"d\": 5}"
   ]
  },
  {
   "cell_type": "code",
   "execution_count": 18,
   "metadata": {},
   "outputs": [
    {
     "name": "stdout",
     "output_type": "stream",
     "text": [
      "Common keys in the dictionaries: ['b', 'c']\n"
     ]
    }
   ],
   "source": [
    "# Define two dictionaries\n",
    "dict1 = {\"a\": 1, \"b\": 2, \"c\": 3}\n",
    "dict2 = {\"b\": 4, \"c\": 5, \"d\": 6}\n",
    "\n",
    "# Initialize an empty list to store common keys\n",
    "common_keys = []\n",
    "\n",
    "# Iterate through the keys of the first dictionary\n",
    "for key in dict1.keys():\n",
    "    # Check if the key is in the second dictionary\n",
    "    if key in dict2:\n",
    "        common_keys.append(key)\n",
    "\n",
    "# Print the common keys\n",
    "print(\"Common keys in the dictionaries:\", common_keys)\n",
    "\n",
    "\n"
   ]
  },
  {
   "cell_type": "markdown",
   "metadata": {},
   "source": [
    "Write a program to get the length of a dictionary.\n",
    "\n",
    "Sample data: {\"a\": 1, \"b\": 2, \"c\": 3}\n",
    "Hint: Use the len() function to calculate the length."
   ]
  },
  {
   "cell_type": "code",
   "execution_count": 21,
   "metadata": {},
   "outputs": [
    {
     "name": "stdout",
     "output_type": "stream",
     "text": [
      "3\n"
     ]
    }
   ],
   "source": [
    "my_dict = {\"sam\": 23, \"aman\": 24, \"ashraf\":48}\n",
    "length = len(my_dict)\n",
    "print(length)"
   ]
  },
  {
   "cell_type": "markdown",
   "metadata": {},
   "source": [
    "Write a program to sort a dictionary by its keys in ascending order.\n",
    "\n",
    "Sample data: {\"b\": 2, \"a\": 1, \"c\": 3}\n",
    "Hint: Use the sorted() function with a custom key argument to sort the dictionary."
   ]
  },
  {
   "cell_type": "code",
   "execution_count": 29,
   "metadata": {},
   "outputs": [
    {
     "name": "stdout",
     "output_type": "stream",
     "text": [
      "[('a', 1), ('b', 2), ('c', 3)]\n"
     ]
    }
   ],
   "source": [
    "dict1 = {\"a\": 1, \"b\": 2, \"c\": 3}\n",
    "sorting = sorted(dict1.items())\n",
    "print(sorting)\n"
   ]
  },
  {
   "cell_type": "markdown",
   "metadata": {},
   "source": [
    "Write a program to find the key with the minimum value in a dictionary.\n",
    "\n",
    "Sample data: {\"a\": 10, \"b\": 5, \"c\": 15}\n",
    "Hint: Use the min() function with a custom key argument to find the minimum value."
   ]
  },
  {
   "cell_type": "code",
   "execution_count": 30,
   "metadata": {},
   "outputs": [
    {
     "name": "stdout",
     "output_type": "stream",
     "text": [
      "sam\n"
     ]
    }
   ],
   "source": [
    "my_dict = {\"sam\": 23, \"aman\": 24, \"ashraf\":48}\n",
    "min_key = min(my_dict, key=my_dict.get)\n",
    "print(min_key)"
   ]
  },
  {
   "cell_type": "markdown",
   "metadata": {},
   "source": [
    "Write a program to get the values of a dictionary as a list.\n",
    "\n",
    "Sample data: {\"a\": 1, \"b\": 2, \"c\": 3}\n",
    "Hint: Use the values() method to get the values and convert them into a list."
   ]
  },
  {
   "cell_type": "code",
   "execution_count": 35,
   "metadata": {},
   "outputs": [
    {
     "name": "stdout",
     "output_type": "stream",
     "text": [
      "[23, 24, 48]\n"
     ]
    }
   ],
   "source": [
    "my_dict = {\"sam\": 23, \"aman\": 24, \"ashraf\":48}\n",
    "result = list(my_dict.values())\n",
    "print(result)\n"
   ]
  },
  {
   "cell_type": "markdown",
   "metadata": {},
   "source": [
    "Write a program to check if a given value exists in a dictionary.\n",
    "\n",
    "Sample data: {\"a\": 1, \"b\": 2, \"c\": 3}\n",
    "Hint: Use the values()method and thein operator to check for value existence."
   ]
  },
  {
   "cell_type": "code",
   "execution_count": 39,
   "metadata": {},
   "outputs": [
    {
     "name": "stdout",
     "output_type": "stream",
     "text": [
      "yes\n"
     ]
    }
   ],
   "source": [
    "my_dict = {\"sam\": 23, \"aman\": 24, \"ashraf\":48}\n",
    "result = 23\n",
    "if result in my_dict.values():\n",
    "    print(\"yes\")\n",
    "else:\n",
    "    print(\"no\")\n",
    "    \n",
    "\n"
   ]
  },
  {
   "cell_type": "markdown",
   "metadata": {},
   "source": [
    "Write a program to create a dictionary with keys as numbers from 1 to 10 and their squares as values.\n",
    "\n",
    "Sample data: \n",
    "keys: [1, 2, 3, ..., 10]\n",
    "values: [1, 4, 9, ..., 100]\n",
    "Hint: Use a for loop and the dictionary's indexing to create the dictionary."
   ]
  },
  {
   "cell_type": "code",
   "execution_count": 40,
   "metadata": {},
   "outputs": [
    {
     "name": "stdout",
     "output_type": "stream",
     "text": [
      "{1: 1, 2: 4, 3: 9, 4: 16, 5: 25, 6: 36, 7: 49, 8: 64, 9: 81, 10: 100}\n"
     ]
    }
   ],
   "source": [
    "# Initialize an empty dictionary\n",
    "squares_dict = {}\n",
    "\n",
    "# Use a for loop to generate the keys and values\n",
    "for num in range(1, 11):\n",
    "    squares_dict[num] = num ** 2\n",
    "\n",
    "# Print the resulting dictionary\n",
    "print(squares_dict)\n"
   ]
  },
  {
   "cell_type": "markdown",
   "metadata": {},
   "source": []
  }
 ],
 "metadata": {
  "kernelspec": {
   "display_name": "Python 3",
   "language": "python",
   "name": "python3"
  },
  "language_info": {
   "codemirror_mode": {
    "name": "ipython",
    "version": 3
   },
   "file_extension": ".py",
   "mimetype": "text/x-python",
   "name": "python",
   "nbconvert_exporter": "python",
   "pygments_lexer": "ipython3",
   "version": "3.11.6"
  }
 },
 "nbformat": 4,
 "nbformat_minor": 2
}
