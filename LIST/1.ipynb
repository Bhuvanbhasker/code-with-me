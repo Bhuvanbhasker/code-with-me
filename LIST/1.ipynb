{
 "cells": [
  {
   "cell_type": "code",
   "execution_count": null,
   "metadata": {},
   "outputs": [],
   "source": [
    "# Initialize an empty list to store the integers\n",
    "integer_list = []\n",
    "\n",
    "# Prompt the user to input integers\n",
    "while True:\n",
    "    user_input = input(\"Enter an integer (or 'done' to finish): \")\n",
    "    \n",
    "    # Check if the user wants to finish entering integers\n",
    "    if user_input.lower() == 'done':\n",
    "        break\n",
    "    \n",
    "    # Try to convert the input to an integer\n",
    "    try:\n",
    "        integer = int(user_input)\n",
    "        integer_list.append(integer)\n",
    "    except ValueError:\n",
    "        print(\"Invalid input. Please enter a valid integer or 'done' to finish.\")\n",
    "\n",
    "# Print the final list of integers entered by the user\n",
    "print(\"List of integers entered by the user:\")\n",
    "print(integer_list)\n"
   ]
  },
  {
   "cell_type": "markdown",
   "metadata": {},
   "source": [
    "Write a program that creates a list of integers and then asks the user to input an integer to check if it exists in the list. Print a message indicating whether the integer is in the list or not."
   ]
  },
  {
   "cell_type": "code",
   "execution_count": null,
   "metadata": {},
   "outputs": [],
   "source": [
    "my_list = [1,2,3,4,5,6,7,8,1/2]\n",
    "user_input = int(input(\"enter an integer: \"))\n",
    "\n",
    "user_integer = int(user_input)\n",
    "if user_integer in my_list:\n",
    "    print(f\"{user_integer} is integer \")\n",
    "else:\n",
    "    print(f\"{user_integer} not integer\")"
   ]
  },
  {
   "cell_type": "markdown",
   "metadata": {},
   "source": [
    "Write a program that creates a list of strings and then sorts the list alphabetically. Print the sorted list."
   ]
  },
  {
   "cell_type": "code",
   "execution_count": null,
   "metadata": {},
   "outputs": [],
   "source": [
    "my_list =[\"aman\", \"bhuvan\", \"amjad\", \"ashraf\"]\n",
    "my_list.sort()\n",
    "print(my_list)"
   ]
  },
  {
   "cell_type": "markdown",
   "metadata": {},
   "source": [
    "Write a program that creates a list of integers and then finds the maximum value in the list. Print the maximum value."
   ]
  },
  {
   "cell_type": "code",
   "execution_count": null,
   "metadata": {},
   "outputs": [],
   "source": [
    "my_list = [1,23,45,67,54,87,65,]\n",
    "print(max(my_list))\n"
   ]
  },
  {
   "cell_type": "markdown",
   "metadata": {},
   "source": [
    "Write a program that creates two lists of integers and then finds the common elements between those two lists. Print the common elements."
   ]
  },
  {
   "cell_type": "code",
   "execution_count": null,
   "metadata": {},
   "outputs": [],
   "source": [
    "my_list_1 = [1,2,3,4,5,6,7,8,9]\n",
    "my_list_2 = [3,4]\n",
    "set1 = set(my_list_1)\n",
    "set2 = set(my_list_2)\n",
    "common_element = list(set1.intersection(set2))\n",
    "print(common_element)"
   ]
  },
  {
   "cell_type": "markdown",
   "metadata": {},
   "source": [
    "Write a program that creates a list of strings and then removes all elements that contain a specific substring. Print the final list."
   ]
  },
  {
   "cell_type": "code",
   "execution_count": null,
   "metadata": {},
   "outputs": [],
   "source": [
    "my_list = [\"aman\", \"amjad\", \"ashraf\", \"sujit\", \"devendar\"]\n",
    "my_list.remove(\"amjad\")\n",
    "print(my_list)"
   ]
  },
  {
   "cell_type": "markdown",
   "metadata": {},
   "source": [
    "Write a program that creates a nested list and then accesses a specific element in the list. Print the accessed element."
   ]
  },
  {
   "cell_type": "code",
   "execution_count": null,
   "metadata": {},
   "outputs": [],
   "source": [
    "my_list = [1,2,[4,5],7,8,[9,25]]\n",
    "print(my_list[2])"
   ]
  },
  {
   "cell_type": "markdown",
   "metadata": {},
   "source": [
    "Write a program that creates a list of integers and then removes all duplicates from the list. Print the final list."
   ]
  },
  {
   "cell_type": "code",
   "execution_count": null,
   "metadata": {},
   "outputs": [],
   "source": [
    "my_list =[1,1,1,1,1,2,2,23,3,3,5,6,7,7]\n",
    "set = set(my_list)\n",
    "print(set)"
   ]
  },
  {
   "cell_type": "markdown",
   "metadata": {},
   "source": [
    "Write a program that creates a list of strings and then finds the longest string in the list. Print the longest string."
   ]
  },
  {
   "cell_type": "code",
   "execution_count": null,
   "metadata": {},
   "outputs": [],
   "source": [
    "my_list = [\"aman\", \"ashish\", \"ashrafmd\", \"amjad\"]\n",
    "length = [len(item) for item in my_list]\n",
    "print(max(length))"
   ]
  },
  {
   "cell_type": "markdown",
   "metadata": {},
   "source": [
    "Write a program that creates a list of integers and then finds the sum of all the even numbers in the list. Print the sum."
   ]
  },
  {
   "cell_type": "code",
   "execution_count": null,
   "metadata": {},
   "outputs": [],
   "source": [
    "l1 = [1,2,3,4,5,6,7,8,9]\n",
    "sum = 0\n",
    "for i in l1:\n",
    "    if i % 2 ==0:\n",
    "        sum += i\n",
    "print(sum)"
   ]
  },
  {
   "cell_type": "code",
   "execution_count": null,
   "metadata": {},
   "outputs": [],
   "source": [
    "l1 = []\n",
    "user  = int(input('number'))\n",
    "sum = 0\n",
    "\n",
    "for i in range(user):\n",
    "    x = int(input('write the number in list '))\n",
    "    l1.append(x)\n",
    "for u in l1:\n",
    "    if u % 2 == 0:\n",
    "        sum += u\n",
    "print(sum)"
   ]
  },
  {
   "cell_type": "markdown",
   "metadata": {},
   "source": [
    "Write a program that creates a list of integers and then asks the user to input a position to remove an element from the list. Print the final list."
   ]
  },
  {
   "cell_type": "code",
   "execution_count": null,
   "metadata": {},
   "outputs": [],
   "source": [
    "my_list = [1,2,3,4,5,6,7]\n",
    "user_inp = input(\"enter the number in list: \")\n",
    "digit = int(user_inp)\n",
    "if digit in my_list:\n",
    " my_list.remove(digit)\n",
    "print(my_list)\n"
   ]
  },
  {
   "cell_type": "markdown",
   "metadata": {},
   "source": [
    "Write a program that creates a list of strings and then concatenates all the strings into a single string. Print the final string."
   ]
  },
  {
   "cell_type": "code",
   "execution_count": null,
   "metadata": {},
   "outputs": [],
   "source": [
    "my_list = [\"my\",\"name\", \"is\", \"bhuvan\", \"bhasker\", \"singh\"]\n",
    "concatenet_string = \" \".join(my_list)\n",
    "print(concatenet_string)"
   ]
  },
  {
   "cell_type": "markdown",
   "metadata": {},
   "source": [
    "Write a program that creates a list of integers and then finds the median value of the list. Print the median.\n"
   ]
  },
  {
   "cell_type": "code",
   "execution_count": null,
   "metadata": {},
   "outputs": [],
   "source": [
    "my_list = [1,3,2,4,5,8,7,6,9]\n",
    "my_list.sort()\n",
    "length = len(my_list)\n",
    "print(length)\n",
    "print(my_list)"
   ]
  },
  {
   "cell_type": "markdown",
   "metadata": {},
   "source": [
    "\n",
    "Write a program that creates a list of strings and then reverses the order of the strings in the list. Print the reversed list.\n"
   ]
  },
  {
   "cell_type": "code",
   "execution_count": null,
   "metadata": {},
   "outputs": [],
   "source": [
    "my_list = [1,2,3,4,5,6,7,8]\n",
    "print(my_list[::-1])"
   ]
  },
  {
   "cell_type": "markdown",
   "metadata": {},
   "source": [
    "Write a program that creates a list of integers and then calculates the average of all the numbers in the list. Print the average.\n"
   ]
  },
  {
   "cell_type": "code",
   "execution_count": null,
   "metadata": {},
   "outputs": [],
   "source": [
    "my_list = [1,2,3,4,5,6,7,8]\n",
    "length = len(my_list)\n",
    "sum = 0\n",
    "for digit in my_list:\n",
    "    sum += digit\n",
    "    result = sum/length\n",
    "    \n",
    "print(result)\n",
    " \n",
    " \n",
    " "
   ]
  },
  {
   "cell_type": "markdown",
   "metadata": {},
   "source": [
    "Write a program that creates a list of integers and then finds the index of a specific element in the list. Print the index.\n"
   ]
  },
  {
   "cell_type": "code",
   "execution_count": null,
   "metadata": {},
   "outputs": [],
   "source": [
    "my_list = [1,2,3,4,5,6,7,8,9]\n",
    "element = my_list[2]\n",
    "print(element)"
   ]
  },
  {
   "cell_type": "markdown",
   "metadata": {},
   "source": [
    "Write a program that creates a list of strings and then removes all whitespace characters from each string in the list. Print the final list.\n"
   ]
  },
  {
   "cell_type": "code",
   "execution_count": null,
   "metadata": {},
   "outputs": [],
   "source": [
    "# Create a list of strings\n",
    "string_list = [\"Hello, World\", \"This is a test\", \"  Remove spaces  \", \"Python is great\"]\n",
    "\n",
    "# Use a list comprehension to remove whitespace from each string\n",
    "stripped_list = [string.replace(\" \", \"\") for string in string_list]\n",
    "\n",
    "# Print the final list\n",
    "print(\"Original List:\")\n",
    "print(string_list)\n",
    "print(\"\\nList with Whitespace Removed:\")\n",
    "print(stripped_list)\n"
   ]
  },
  {
   "cell_type": "markdown",
   "metadata": {},
   "source": [
    "Write a program that creates a list of integers and then sorts the list in descending order. Print the sorted list.\n"
   ]
  },
  {
   "cell_type": "code",
   "execution_count": null,
   "metadata": {},
   "outputs": [],
   "source": [
    "my_list = [1,2,4,3,6,8,7,5,9]\n",
    "arrange = my_list.sort()\n",
    "print(my_list[::-1])"
   ]
  },
  {
   "cell_type": "markdown",
   "metadata": {},
   "source": [
    "Write a program that creates a list of integers and then asks the user to input a value to add to the list. Add the value to the beginning of the list and print the final list.\n"
   ]
  },
  {
   "cell_type": "code",
   "execution_count": null,
   "metadata": {},
   "outputs": [],
   "source": [
    "\n",
    "integer_list = [1, 2, 3, 4, 5]\n",
    "new_value = int(input(\"Enter a value to add to the list: \"))\n",
    "integer_list.insert(0, new_value)\n",
    "print(\"Updated List:\")\n",
    "print(integer_list)\n"
   ]
  },
  {
   "cell_type": "markdown",
   "metadata": {},
   "source": [
    "Write a program that creates two lists of integers and then concatenates those two lists into a single list. Print the final list.\n"
   ]
  },
  {
   "cell_type": "code",
   "execution_count": null,
   "metadata": {},
   "outputs": [],
   "source": [
    "my_list1 = [1,2,3,4,5,6,7,8,9]\n",
    "my_list2 = [23.43,45,73,938,7]\n",
    "con = my_list1 + my_list2\n",
    "print(con)\n"
   ]
  },
  {
   "cell_type": "markdown",
   "metadata": {},
   "source": [
    "Write a program that uses a lambda expression and the map function to convert a list of integers to a list of strings. Print the new list.\n"
   ]
  },
  {
   "cell_type": "code",
   "execution_count": null,
   "metadata": {},
   "outputs": [],
   "source": [
    "\n",
    "integers = [1, 2, 3, 4, 5]\n",
    "strings = list(map(lambda x: str(x), integers))\n",
    "print(\"List of Strings:\")\n",
    "print(strings)\n"
   ]
  },
  {
   "cell_type": "markdown",
   "metadata": {},
   "source": [
    "Write a program that uses a lambda expression and the map function to add 10 to each element in a list of integers. Print the new list.\n"
   ]
  },
  {
   "cell_type": "code",
   "execution_count": null,
   "metadata": {},
   "outputs": [],
   "source": [
    "my_list = [1,2,34,5,6,8,7,9,10]\n",
    "# for x in my_list:\n",
    "strings = list(map(lambda x: x+10, my_list))\n",
    "print(\"list of integers\")\n",
    "print(strings)\n"
   ]
  },
  {
   "cell_type": "markdown",
   "metadata": {},
   "source": [
    "Write a program that uses the map function to create a new list that contains the first letter of each string in a user inputted list of strings.\n"
   ]
  },
  {
   "cell_type": "code",
   "execution_count": null,
   "metadata": {},
   "outputs": [],
   "source": [
    "\n",
    "input_strings = input(\"Enter a list of strings separated by spaces: \").split()\n",
    "first_letters = list(map(lambda s: s[0], input_strings))\n",
    "print(\"First Letters:\")\n",
    "print(first_letters)\n"
   ]
  },
  {
   "cell_type": "markdown",
   "metadata": {},
   "source": [
    "Write a program that uses a lambda expression and the map function to convert a list of Celsius temperatures to a list of Fahrenheit temperatures. Print the new list.\n"
   ]
  },
  {
   "cell_type": "code",
   "execution_count": null,
   "metadata": {},
   "outputs": [],
   "source": [
    "# Fahrenheit = (Celsius * 9/5) + 32\n",
    "my_list = [1,2,3,4,5,6,7,8]\n",
    "celsius = list(map(lambda x: (x * 9/5) + 32, my_list))\n",
    "print(celsius)\n",
    "\n"
   ]
  },
  {
   "cell_type": "markdown",
   "metadata": {},
   "source": [
    "Write a program that uses a lambda expression and the map function to convert a list of strings to a list of integers. Print the new list.\n"
   ]
  },
  {
   "cell_type": "code",
   "execution_count": null,
   "metadata": {},
   "outputs": [],
   "source": [
    "my_list = [\"1\", \"2\", \"3\", \"4\"]\n",
    "\n",
    "integer = list(map(lambda x: int(x), my_list))\n",
    "print(integer)"
   ]
  },
  {
   "cell_type": "markdown",
   "metadata": {},
   "source": [
    "Write a program that uses the map function to create a new list that contains the length of each string in a user inputted list of strings.\n"
   ]
  },
  {
   "cell_type": "code",
   "execution_count": null,
   "metadata": {},
   "outputs": [],
   "source": [
    "user_input = input(\"Enter a list of strings separated by spaces: \").split()\n",
    "result = [len(x) for x in user_input]\n",
    "print(result)\n"
   ]
  },
  {
   "cell_type": "markdown",
   "metadata": {},
   "source": [
    "Write a program that uses a lambda expression and the map function to calculate the square root of each element in a list of integers. Print the new list.\n"
   ]
  },
  {
   "cell_type": "code",
   "execution_count": null,
   "metadata": {},
   "outputs": [],
   "source": [
    "import math\n",
    "\n",
    "my_list = [4, 9, 16, 25]\n",
    "\n",
    "square_roots = [math.sqrt(x) for x in my_list]\n",
    "\n",
    "print(square_roots)\n"
   ]
  },
  {
   "cell_type": "markdown",
   "metadata": {},
   "source": [
    "Write a program that uses a lambda expression and the map function to convert a list of integers to their absolute values. Print the new list.\n"
   ]
  },
  {
   "cell_type": "code",
   "execution_count": null,
   "metadata": {},
   "outputs": [],
   "source": [
    "my_list = [-4, 9, -16, 25]\n",
    "absolute = [abs(x) for x in my_list]\n",
    "print(absolute)\n"
   ]
  },
  {
   "cell_type": "markdown",
   "metadata": {},
   "source": [
    "Write a program that uses the map function to create a new list that contains the uppercase version of each string in a user inputted list of strings.\n"
   ]
  },
  {
   "cell_type": "code",
   "execution_count": null,
   "metadata": {},
   "outputs": [],
   "source": [
    "my_list = [\"bhuvan\", \"aman\", \"amjad\"]\n",
    "name = [x.upper for x in my_list]\n",
    "print(name)"
   ]
  },
  {
   "cell_type": "markdown",
   "metadata": {},
   "source": []
  }
 ],
 "metadata": {
  "kernelspec": {
   "display_name": "Python 3",
   "language": "python",
   "name": "python3"
  },
  "language_info": {
   "codemirror_mode": {
    "name": "ipython",
    "version": 3
   },
   "file_extension": ".py",
   "mimetype": "text/x-python",
   "name": "python",
   "nbconvert_exporter": "python",
   "pygments_lexer": "ipython3",
   "version": "3.11.6"
  }
 },
 "nbformat": 4,
 "nbformat_minor": 2
}
